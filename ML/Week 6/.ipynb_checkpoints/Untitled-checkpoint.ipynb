{
 "cells": [
  {
   "cell_type": "code",
   "execution_count": 1,
   "metadata": {
    "collapsed": true
   },
   "outputs": [],
   "source": [
    "import numpy as np\n",
    "import sys\n"
   ]
  },
  {
   "cell_type": "code",
   "execution_count": 308,
   "metadata": {
    "collapsed": false
   },
   "outputs": [
    {
     "data": {
      "text/plain": [
       "(10, 3)"
      ]
     },
     "execution_count": 308,
     "metadata": {},
     "output_type": "execute_result"
    }
   ],
   "source": [
    "x = np.array([[1,2,3],\n",
    "            [1,3,4],\n",
    "            [1,2,-5],\n",
    "            [1,-2,3],\n",
    "            [-1,-4,5],\n",
    "            [0,0,1],\n",
    "            [1,-4,1],\n",
    "            [2,6,5],\n",
    "            [-2,2,1],\n",
    "            [8,0,1]],dtype=np.float64)\n",
    "y = np.array([0,1,0,0,0,0,0,1,1,1])\n",
    "\n",
    "x.shape"
   ]
  },
  {
   "cell_type": "code",
   "execution_count": 349,
   "metadata": {
    "collapsed": true
   },
   "outputs": [],
   "source": [
    "x = np.genfromtxt('X_train.csv', delimiter=\",\")\n",
    "y = np.genfromtxt('y_train.csv')\n",
    "Xtest = np.genfromtxt('X_test.csv', delimiter=\",\")"
   ]
  },
  {
   "cell_type": "code",
   "execution_count": 350,
   "metadata": {
    "collapsed": false
   },
   "outputs": [
    {
     "name": "stdout",
     "output_type": "stream",
     "text": [
      "1.0\n"
     ]
    }
   ],
   "source": [
    "n = y.size\n",
    "yCount = np.bincount(y.astype(dtype=np.int64)).astype(dtype=np.float64)\n",
    "piPrior = yCount / n\n",
    "\n",
    "print(piPrior.sum())\n",
    "mu = np.zeros((yCount.size, x.shape[1]))\n",
    "sigma = np.zeros((yCount.size, x.shape[1], x.shape[1]))\n",
    "det = np.zeros((yCount.size, x.shape[1]))"
   ]
  },
  {
   "cell_type": "code",
   "execution_count": 360,
   "metadata": {
    "collapsed": false
   },
   "outputs": [
    {
     "name": "stdout",
     "output_type": "stream",
     "text": [
      "[ 0.064  0.072  0.08   0.088  0.096  0.104  0.112  0.12   0.128  0.136]\n",
      "[[-3.544 -0.387  0.59   1.233 -0.779 -0.338  1.075 -0.335 -0.918 -0.337]\n",
      " [ 0.191 -0.868  0.518  0.792 -1.306 -0.143  1.178 -0.467 -1.016 -0.302]\n",
      " [-1.778 -0.679  0.827  0.183 -2.393 -0.686  1.219  0.175 -0.437 -0.386]\n",
      " [-1.601 -0.935 -0.48   1.48  -2.027 -0.009  0.96   0.412 -0.817  0.032]\n",
      " [-1.411  1.142  0.415  0.623 -2.158 -0.106  0.337 -0.188 -0.962 -0.004]\n",
      " [-1.676 -0.23   0.205  1.569 -1.542  0.281  0.624 -0.333 -0.878 -0.128]\n",
      " [-1.961 -0.03   1.003 -0.03  -2.216  0.91   1.222 -0.321 -0.799  0.026]\n",
      " [-0.997  1.115  0.264  1.418 -1.392 -0.641  1.633  0.29  -0.7   -0.044]\n",
      " [-1.481 -0.413  0.337  1.489 -2.556 -0.424  0.901 -0.592 -0.795 -0.249]\n",
      " [-1.224  1.154  0.151  1.286 -2.152 -0.112  0.92  -0.298 -0.94  -0.266]]\n",
      "[  3.528e+02   1.003e+06   2.200e+02   3.058e+02   7.111e+02   4.731e+02\n",
      "   1.570e+03   1.923e+03   4.049e+02   8.531e+02]\n"
     ]
    }
   ],
   "source": [
    "for i in range(yCount.size):\n",
    "    Xy = x[y==i]\n",
    "    mu[i] = np.average(Xy, axis=0)\n",
    "    sigma[i] = np.cov(Xy, rowvar= False)\n",
    "\n",
    "invDet = np.reciprocal(np.sqrt(np.linalg.det(sigma)))\n",
    "invSigma = np.linalg.inv(sigma)\n",
    "print(piPrior)\n",
    "print(mu)\n",
    "print(invDet)"
   ]
  },
  {
   "cell_type": "code",
   "execution_count": 369,
   "metadata": {
    "collapsed": false
   },
   "outputs": [
    {
     "name": "stdout",
     "output_type": "stream",
     "text": [
      "[6 5 8 5 9 5 1 6 3 8 8 7 3 8 2 6 3 9 6 8 4 6 8 0 6 1 1 7 7 8 6 6 2 9 2 4 3\n",
      " 6 3 0 1 9 0 7 4 3 4 7 6 4 4 3 1 0 5 9 6 6 2 9 1 6 8 0 1 9 0 9 0 8 8 6 8 9\n",
      " 5 5 3 1 5 2 7 9 6 4 7 4 5 1 0 0 9 0 9 1 5 9 9 0 7 7]\n",
      "[ 0.11  0.1   0.05  0.08  0.08  0.09  0.15  0.09  0.11  0.14]\n"
     ]
    }
   ],
   "source": [
    "from math import exp\n",
    "Xtest = np.genfromtxt('X_test.csv', delimiter=\",\")\n",
    "r = np.zeros((X_test.shape[0],piPrior.size))\n",
    "for i in range(Xtest.shape[0]):\n",
    "    for j in range(yCount.size):\n",
    "        \n",
    "        r[i,j] = piPrior[j] *invDet[j] * exp(-(Xtest[i]-mu[j]).dot(invSigma[j].dot(Xtest[i]-mu[j]))/2)\n",
    "\n",
    "r = r / r.sum(axis=1).reshape(-1,1)\n",
    "s = r.argmax(axis = 1)\n",
    "count = np.bincount(s.astype(dtype=np.int64)).astype(dtype=np.float64) / 100\n",
    "print(s)\n",
    "print(count)"
   ]
  },
  {
   "cell_type": "code",
   "execution_count": 358,
   "metadata": {
    "collapsed": false
   },
   "outputs": [],
   "source": [
    "np.set_printoptions(precision=3)"
   ]
  },
  {
   "cell_type": "raw",
   "metadata": {},
   "source": [
    "res = np.genfromtxt('probs_test.csv', delimiter=\",\")"
   ]
  },
  {
   "cell_type": "raw",
   "metadata": {},
   "source": [
    "np.linalg.det(a)"
   ]
  },
  {
   "cell_type": "code",
   "execution_count": null,
   "metadata": {
    "collapsed": true
   },
   "outputs": [],
   "source": []
  }
 ],
 "metadata": {
  "kernelspec": {
   "display_name": "Python 2",
   "language": "python",
   "name": "python2"
  },
  "language_info": {
   "codemirror_mode": {
    "name": "ipython",
    "version": 2
   },
   "file_extension": ".py",
   "mimetype": "text/x-python",
   "name": "python",
   "nbconvert_exporter": "python",
   "pygments_lexer": "ipython2",
   "version": "2.7.13"
  }
 },
 "nbformat": 4,
 "nbformat_minor": 2
}
