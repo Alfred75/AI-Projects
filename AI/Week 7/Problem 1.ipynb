{
 "cells": [
  {
   "cell_type": "code",
   "execution_count": 86,
   "metadata": {},
   "outputs": [
    {
     "name": "stdout",
     "output_type": "stream",
     "text": [
      "[[  8. -11.   1.]\n",
      " [  7.   7.   1.]\n",
      " [ 12. -20.   1.]\n",
      " [ 14.  -3.   1.]\n",
      " [ 12.   8.   1.]\n",
      " [  1. -12.   1.]\n",
      " [ 15.   5.   1.]\n",
      " [  7. -10.   1.]\n",
      " [ 10.   4.   1.]\n",
      " [  6.   2.   1.]\n",
      " [  8.  12.   1.]\n",
      " [  2.  20.   1.]\n",
      " [  1. -12.   1.]\n",
      " [  9.   8.   1.]\n",
      " [  3.   3.   1.]\n",
      " [  5.   6.   1.]\n",
      " [  1.  11.   1.]] [ 1. -1.  1. -1. -1.  1. -1.  1. -1.  1. -1. -1.  1. -1.  1.  1.  1.]\n",
      "[  1.  15.]\n"
     ]
    }
   ],
   "source": [
    "%matplotlib inline\n",
    "import matplotlib.pyplot as plt\n",
    "import numpy as np\n",
    "data = np.genfromtxt('input1.csv', delimiter = \",\")\n",
    "Y = data[:,2]\n",
    "X = np.array(data)\n",
    "X[:,2] =1\n",
    "\n",
    "xForPlot = np.array([data[:,0].min(),data[:,0].max()])\n",
    "print(X, Y)\n",
    "print(xForPlot)"
   ]
  },
  {
   "cell_type": "code",
   "execution_count": 89,
   "metadata": {},
   "outputs": [
    {
     "name": "stdout",
     "output_type": "stream",
     "text": [
      "[ 0.  0.  0.]\n"
     ]
    }
   ],
   "source": [
    "weights = np.zeros(3)\n",
    "\n",
    "print(weights)\n"
   ]
  },
  {
   "cell_type": "code",
   "execution_count": 106,
   "metadata": {},
   "outputs": [
    {
     "name": "stdout",
     "output_type": "stream",
     "text": [
      "[ True False  True False False False False  True False  True False False\n",
      " False False  True  True  True] [[  8. -11.   1.]\n",
      " [  7.   7.   1.]\n",
      " [ 12. -20.   1.]\n",
      " [ 14.  -3.   1.]\n",
      " [ 12.   8.   1.]\n",
      " [  1. -12.   1.]\n",
      " [ 15.   5.   1.]\n",
      " [  7. -10.   1.]\n",
      " [ 10.   4.   1.]\n",
      " [  6.   2.   1.]\n",
      " [  8.  12.   1.]\n",
      " [  2.  20.   1.]\n",
      " [  1. -12.   1.]\n",
      " [  9.   8.   1.]\n",
      " [  3.   3.   1.]\n",
      " [  5.   6.   1.]\n",
      " [  1.  11.   1.]] [ 1. -1.  1. -1. -1.  1. -1.  1. -1.  1. -1. -1.  1. -1.  1.  1.  1.]\n"
     ]
    },
    {
     "data": {
      "text/plain": [
       "array([[ 1.],\n",
       "       [ 1.],\n",
       "       [ 1.],\n",
       "       [ 1.],\n",
       "       [ 1.],\n",
       "       [ 1.],\n",
       "       [ 1.]])"
      ]
     },
     "execution_count": 106,
     "metadata": {},
     "output_type": "execute_result"
    }
   ],
   "source": [
    "fY =((np.sum(X * weights,axis=1)*Y) > 0)\n",
    "print(fY, X, Y)\n",
    "np.vstack(Y[fY])\n"
   ]
  },
  {
   "cell_type": "code",
   "execution_count": 77,
   "metadata": {},
   "outputs": [
    {
     "data": {
      "image/png": "[encoded data removed]",
      "text/plain": [
       "<matplotlib.figure.Figure at 0x115c21160>"
      ]
     },
     "metadata": {},
     "output_type": "display_data"
    }
   ],
   "source": [
    "color = np.where(data[:,2] == 1, 'b', 'r')\n",
    "plt.scatter(data[:,0],data[:,1],c=color)\n",
    "\n",
    "plt.plot(xForPlot,-(weights[0]*xForPlot + weights[2])/weights[1])\n",
    "plt.show()"
   ]
  },
  {
   "cell_type": "code",
   "execution_count": 64,
   "metadata": {
    "collapsed": true
   },
   "outputs": [],
   "source": [
    "plt.show()"
   ]
  },
  {
   "cell_type": "code",
   "execution_count": 107,
   "metadata": {},
   "outputs": [
    {
     "data": {
      "text/plain": [
       "array([ 50.,  14.,   6.])"
      ]
     },
     "execution_count": 107,
     "metadata": {},
     "output_type": "execute_result"
    }
   ],
   "source": [
    "weights\n"
   ]
  },
  {
   "cell_type": "code",
   "execution_count": 110,
   "metadata": {},
   "outputs": [
    {
     "name": "stdout",
     "output_type": "stream",
     "text": [
      "[[ 50.  14.   6.]]\n"
     ]
    }
   ],
   "source": [
    "sol = np.array(weights).reshape(1,3)\n",
    "print(sol)"
   ]
  },
  {
   "cell_type": "code",
   "execution_count": 114,
   "metadata": {},
   "outputs": [
    {
     "data": {
      "text/plain": [
       "array([[ 50.,  14.,   6.],\n",
       "       [ 50.,  14.,   6.]])"
      ]
     },
     "execution_count": 114,
     "metadata": {},
     "output_type": "execute_result"
    }
   ],
   "source": [
    "np.append(sol,weights).reshape(2,3)"
   ]
  },
  {
   "cell_type": "code",
   "execution_count": 115,
   "metadata": {},
   "outputs": [
    {
     "data": {
      "text/plain": [
       "array([[ 50.,  14.,   6.]])"
      ]
     },
     "execution_count": 115,
     "metadata": {},
     "output_type": "execute_result"
    }
   ],
   "source": [
    "sol"
   ]
  },
  {
   "cell_type": "code",
   "execution_count": 118,
   "metadata": {},
   "outputs": [
    {
     "data": {
      "text/plain": [
       "array([ 50.,  14.,   6.,  50.,  14.,   6.,  50.,  14.,   6.])"
      ]
     },
     "execution_count": 118,
     "metadata": {},
     "output_type": "execute_result"
    }
   ],
   "source": [
    "sol=np.append(sol,weights)\n",
    "sol"
   ]
  },
  {
   "cell_type": "code",
   "execution_count": 119,
   "metadata": {},
   "outputs": [
    {
     "data": {
      "text/plain": [
       "array([[ 50.,  14.,   6.],\n",
       "       [ 50.,  14.,   6.],\n",
       "       [ 50.,  14.,   6.]])"
      ]
     },
     "execution_count": 119,
     "metadata": {},
     "output_type": "execute_result"
    }
   ],
   "source": [
    "sol.reshape(-1,3)"
   ]
  },
  {
   "cell_type": "code",
   "execution_count": 120,
   "metadata": {},
   "outputs": [
    {
     "name": "stdout",
     "output_type": "stream",
     "text": [
      "[ 50.  14.   6.  50.  14.   6.  50.  14.   6.]\n"
     ]
    }
   ],
   "source": [
    "print(sol)\n"
   ]
  },
  {
   "cell_type": "code",
   "execution_count": null,
   "metadata": {
    "collapsed": true
   },
   "outputs": [],
   "source": []
  }
 ],
 "metadata": {
  "kernelspec": {
   "display_name": "Python 3",
   "language": "python",
   "name": "python3"
  },
  "language_info": {
   "codemirror_mode": {
    "name": "ipython",
    "version": 3
   },
   "file_extension": ".py",
   "mimetype": "text/x-python",
   "name": "python",
   "nbconvert_exporter": "python",
   "pygments_lexer": "ipython3",
   "version": "3.6.1"
  }
 },
 "nbformat": 4,
 "nbformat_minor": 2
}
