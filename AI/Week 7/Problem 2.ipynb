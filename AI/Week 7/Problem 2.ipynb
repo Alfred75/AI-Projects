{
 "cells": [
  {
   "cell_type": "code",
   "execution_count": 284,
   "metadata": {},
   "outputs": [
    {
     "name": "stdout",
     "output_type": "stream",
     "text": [
      "(79, 3)\n"
     ]
    }
   ],
   "source": [
    "%matplotlib inline\n",
    "import numpy as np\n",
    "import matplotlib.pyplot as plt\n",
    "import pandas as pd\n",
    "# from time import sleep\n",
    "import sys\n",
    "\n",
    "data = np.genfromtxt('input2.csv', delimiter = \",\")\n",
    "print(data.shape)\n",
    "\n",
    "df = pd.DataFrame(data, columns = ['age','weight','height'])"
   ]
  },
  {
   "cell_type": "code",
   "execution_count": 285,
   "metadata": {},
   "outputs": [
    {
     "data": {
      "text/html": [
       "<div>\n",
       "<style>\n",
       "    .dataframe thead tr:only-child th {\n",
       "        text-align: right;\n",
       "    }\n",
       "\n",
       "    .dataframe thead th {\n",
       "        text-align: left;\n",
       "    }\n",
       "\n",
       "    .dataframe tbody tr th {\n",
       "        vertical-align: top;\n",
       "    }\n",
       "</style>\n",
       "<table border=\"1\" class=\"dataframe\">\n",
       "  <thead>\n",
       "    <tr style=\"text-align: right;\">\n",
       "      <th></th>\n",
       "      <th>age</th>\n",
       "      <th>weight</th>\n",
       "      <th>height</th>\n",
       "    </tr>\n",
       "  </thead>\n",
       "  <tbody>\n",
       "    <tr>\n",
       "      <th>count</th>\n",
       "      <td>79.000000</td>\n",
       "      <td>79.000000</td>\n",
       "      <td>79.000000</td>\n",
       "    </tr>\n",
       "    <tr>\n",
       "      <th>mean</th>\n",
       "      <td>5.210506</td>\n",
       "      <td>18.306604</td>\n",
       "      <td>1.096461</td>\n",
       "    </tr>\n",
       "    <tr>\n",
       "      <th>std</th>\n",
       "      <td>1.911619</td>\n",
       "      <td>6.156544</td>\n",
       "      <td>0.147693</td>\n",
       "    </tr>\n",
       "    <tr>\n",
       "      <th>min</th>\n",
       "      <td>2.000000</td>\n",
       "      <td>10.210270</td>\n",
       "      <td>0.803755</td>\n",
       "    </tr>\n",
       "    <tr>\n",
       "      <th>25%</th>\n",
       "      <td>3.585000</td>\n",
       "      <td>13.483010</td>\n",
       "      <td>0.990246</td>\n",
       "    </tr>\n",
       "    <tr>\n",
       "      <th>50%</th>\n",
       "      <td>5.210000</td>\n",
       "      <td>16.833040</td>\n",
       "      <td>1.093230</td>\n",
       "    </tr>\n",
       "    <tr>\n",
       "      <th>75%</th>\n",
       "      <td>6.835000</td>\n",
       "      <td>20.486755</td>\n",
       "      <td>1.174633</td>\n",
       "    </tr>\n",
       "    <tr>\n",
       "      <th>max</th>\n",
       "      <td>8.460000</td>\n",
       "      <td>40.946140</td>\n",
       "      <td>1.414521</td>\n",
       "    </tr>\n",
       "  </tbody>\n",
       "</table>\n",
       "</div>"
      ],
      "text/plain": [
       "             age     weight     height\n",
       "count  79.000000  79.000000  79.000000\n",
       "mean    5.210506  18.306604   1.096461\n",
       "std     1.911619   6.156544   0.147693\n",
       "min     2.000000  10.210270   0.803755\n",
       "25%     3.585000  13.483010   0.990246\n",
       "50%     5.210000  16.833040   1.093230\n",
       "75%     6.835000  20.486755   1.174633\n",
       "max     8.460000  40.946140   1.414521"
      ]
     },
     "execution_count": 285,
     "metadata": {},
     "output_type": "execute_result"
    }
   ],
   "source": [
    "df.describe()"
   ]
  },
  {
   "cell_type": "code",
   "execution_count": 387,
   "metadata": {},
   "outputs": [
    {
     "data": {
      "text/plain": [
       "(array([  5.21050633,  18.3066043 ]), array([ 1.89948154,  6.11745394]))"
      ]
     },
     "execution_count": 387,
     "metadata": {},
     "output_type": "execute_result"
    }
   ],
   "source": [
    "X = np.array(data[:,:2])\n",
    "muX = np.mean(X,axis=0)\n",
    "sigmaX = np.std(X,axis=0)\n",
    "X = (X - muX)/sigmaX\n",
    "X= np.insert(X,0,1,axis=1)\n",
    "muX, sigmaX"
   ]
  },
  {
   "cell_type": "code",
   "execution_count": 391,
   "metadata": {},
   "outputs": [],
   "source": [
    "Y = np.array(data[:,2])"
   ]
  },
  {
   "cell_type": "code",
   "execution_count": 392,
   "metadata": {},
   "outputs": [
    {
     "name": "stdout",
     "output_type": "stream",
     "text": [
      "1.22376327287\n"
     ]
    }
   ],
   "source": [
    "learningRates = [0.5,0.6,0.7,0.8,0.9,1]\n",
    "iterations = 10\n",
    "solution = np.ones((len(learningRates),5))*iterations\n",
    "error = np.zeros((len(learningRates),iterations))\n",
    "index = 0\n",
    "print(np.mean(Y**2))"
   ]
  },
  {
   "cell_type": "code",
   "execution_count": 393,
   "metadata": {},
   "outputs": [
    {
     "data": {
      "text/plain": [
       "(79,)"
      ]
     },
     "execution_count": 393,
     "metadata": {},
     "output_type": "execute_result"
    }
   ],
   "source": [
    "Y.shape"
   ]
  },
  {
   "cell_type": "code",
   "execution_count": 394,
   "metadata": {},
   "outputs": [
    {
     "data": {
      "text/plain": [
       "array([ 0.6484237 ,  0.84543262,  0.82510063,  0.6460229 ,  0.65830018,\n",
       "        0.90059607,  0.93402657,  0.8627443 ,  0.7431302 ,  0.96268123,\n",
       "        0.97689068,  1.00951854,  1.00383367,  0.98702218,  0.80548381,\n",
       "        0.78983319,  0.86919634,  0.87943883,  1.1031721 ,  1.11667195,\n",
       "        0.96456893,  0.8286643 ,  1.13489818,  1.05750372,  0.85668871,\n",
       "        0.8661768 ,  1.2135534 ,  0.9842886 ,  1.24221724,  1.13195981,\n",
       "        1.01734255,  1.09126228,  1.30102311,  0.96516929,  1.1279056 ,\n",
       "        1.21029482,  1.36176063,  1.34862001,  1.01866429,  1.19097061,\n",
       "        1.20385223,  1.05170973,  1.15819353,  1.2429485 ,  1.40942722,\n",
       "        1.19515183,  1.14414684,  1.37702245,  1.51950984,  1.11854949,\n",
       "        1.5511731 ,  1.56701325,  1.36283677,  1.18783188,  1.47731141,\n",
       "        1.25044281,  1.26221405,  1.2333102 ,  1.7142534 ,  1.22967917,\n",
       "        1.38239747,  1.32045839,  1.28919447,  1.79312721,  1.76958103,\n",
       "        1.72579718,  1.37713041,  1.34334127,  1.86966243,  1.36438519,\n",
       "        1.59736485,  1.87297016,  1.92897654,  1.73861893,  1.91572451,\n",
       "        1.47344396,  1.48363849,  2.00086966,  1.69298612])"
      ]
     },
     "execution_count": 394,
     "metadata": {},
     "output_type": "execute_result"
    }
   ],
   "source": [
    "Z = Y*Y\n",
    "Z.ravel()\n",
    "Z"
   ]
  },
  {
   "cell_type": "code",
   "execution_count": 395,
   "metadata": {},
   "outputs": [
    {
     "name": "stdout",
     "output_type": "stream",
     "text": [
      "0.611881636434 0.5 0 [ 0.  0.  0.]\n",
      "0.15358345582 0.5 1 [ 0.54823041  0.06482274  0.04785006]\n",
      "0.0405447753869 0.5 2 [ 0.82234561  0.07969312  0.04801221]\n",
      "0.0122136962967 0.5 3 [ 0.95940321  0.08706887  0.04264207]\n",
      "0.00505549931223 0.5 4 [ 1.02793201  0.09272534  0.03725318]\n",
      "0.0032089187854 0.5 5 [ 1.06219641  0.09752905  0.03248517]\n",
      "0.00270443824143 0.5 6 [ 1.07932861  0.10167877  0.02834021]\n",
      "0.00254615008053 0.5 7 [ 1.08789471  0.10527311  0.02474651]\n",
      "0.00248242097236 0.5 8 [ 1.09217776  0.10838766  0.02163205]\n",
      "0.00244834757904 0.5 9 [ 1.09431929  0.11108664  0.01893307]\n",
      "[  0.5         10.           0.10780484   0.03161827   0.01489769]\n",
      "0.611881636434 0.6 0 [ 0.  0.  0.]\n",
      "0.0993153895405 0.6 1 [ 0.65787649  0.07778729  0.05742008]\n",
      "0.0182898028165 0.6 2 [ 0.92102708  0.08364318  0.04616956]\n",
      "0.00520519317687 0.6 3 [ 1.02628732  0.09093462  0.03909335]\n",
      "0.00302534215573 0.6 4 [ 1.06839141  0.09696401  0.03305537]\n",
      "0.00261567578778 0.6 5 [ 1.08523305  0.10203187  0.02798786]\n",
      "0.00250717537387 0.6 6 [ 1.09196971  0.10628821  0.02373151]\n",
      "0.00245951440161 0.6 7 [ 1.09466437  0.10986311  0.02015661]\n",
      "0.00243051347057 0.6 8 [ 1.09574223  0.11286567  0.01715405]\n",
      "0.0024107946264 0.6 9 [ 1.09617338  0.11538751  0.01463221]\n",
      "[  0.6         10.           0.10809444   0.03275562   0.01123474]\n",
      "0.611881636434 0.7 0 [ 0.  0.  0.]\n",
      "0.0575111798761 0.7 1 [ 0.76752257  0.09075184  0.06699009]\n",
      "0.007720355425 0.7 2 [ 0.99777934  0.08359704  0.04051187]\n",
      "0.00311519220153 0.7 3 [ 1.06685637  0.09503964  0.03624036]\n",
      "0.00261001245561 0.7 4 [ 1.08757948  0.10066462  0.02908639]\n",
      "0.00250415829676 0.7 5 [ 1.09379641  0.10602364  0.02405337]\n",
      "0.00245467766281 0.7 6 [ 1.09566149  0.11021437  0.01979313]\n",
      "0.00242380139224 0.7 7 [ 1.09622102  0.11365801  0.01636431]\n",
      "0.00240354844054 0.7 8 [ 1.09638887  0.11645083  0.01356833]\n",
      "0.00239016972111 0.7 9 [ 1.09643923  0.11872361  0.01129623]\n",
      "[  7.00000000e-01   1.00000000e+01   1.08222589e-01   3.36102735e-02\n",
      "   8.48223893e-03]\n",
      "0.611881636434 0.8 0 [ 0.  0.  0.]\n",
      "0.0281708268263 0.8 1 [ 0.87716865  0.10371639  0.0765601 ]\n",
      "0.00390250449109 0.8 2 [ 1.05260238  0.07955472  0.03103915]\n",
      "0.00268254801822 0.8 3 [ 1.08768912  0.10142188  0.03610655]\n",
      "0.00252735979929 0.8 4 [ 1.09470647  0.10282312  0.02429424]\n",
      "0.0024624758207 0.8 5 [ 1.09610994  0.11003167  0.0211099 ]\n",
      "0.00242464804486 0.8 6 [ 1.09639064  0.11334109  0.016245  ]\n",
      "0.00240149839509 0.8 7 [ 1.09644678  0.1168564   0.01333093]\n",
      "0.0023872111558 0.8 8 [ 1.096458    0.11926865  0.01068628]\n",
      "0.00237837751872 0.8 9 [ 1.09646025  0.12130227  0.00874249]\n",
      "[  8.00000000e-01   1.00000000e+01   1.08311123e-01   3.42451647e-02\n",
      "   6.42884660e-03]\n",
      "0.611881636434 0.9 0 [ 0.  0.  0.]\n",
      "0.0112943303911 0.9 1 [ 0.98681473  0.11668094  0.08613011]\n",
      "0.00350363008305 0.9 2 [ 1.0854962   0.07151621  0.01775139]\n",
      "0.00279797777464 0.9 3 [ 1.09536435  0.11211933  0.04071539]\n",
      "0.00255471726594 0.9 4 [ 1.09635117  0.10102688  0.01621989]\n",
      "0.00245547417633 0.9 5 [ 1.09644985  0.11608095  0.02108967]\n",
      "0.00241098765741 0.9 6 [ 1.09645971  0.11437304  0.01164325]\n",
      "0.00238931758372 0.9 7 [ 1.0964607   0.12043546  0.01182557]\n",
      "0.00237806438218 0.9 8 [ 1.0964608   0.1209214   0.00784352]\n",
      "0.00237196155875 0.9 9 [ 1.09646081  0.12359754  0.00712467]\n",
      "[  9.00000000e-01   1.00000000e+01   1.08534158e-01   3.46606236e-02\n",
      "   4.74643020e-03]\n",
      "0.611881636434 1 0 [ 0.  0.  0.]\n",
      "0.00688169057044 1 1 [ 1.09646081  0.12964548  0.09570013]\n",
      "0.00479242105868 1 2 [  1.09646081e+00   5.94815100e-02   6.48605621e-04]\n",
      "0.0036693743699 1 3 [ 1.09646081  0.12916995  0.05209037]\n",
      "0.00306570219737 1 4 [  1.09646081e+00   9.14546530e-02   9.97251113e-04]\n",
      "0.00274120981826 1 5 [ 1.09646081  0.12891433  0.02864878]\n",
      "0.00256678517374 1 6 [ 1.09646081  0.1086412   0.00118466]\n",
      "0.00247302655698 1 7 [ 1.09646081  0.12877693  0.01604821]\n",
      "0.00242262841375 1 8 [ 1.09646081  0.1178795   0.0012854 ]\n",
      "0.00239553786006 1 9 [ 1.09646081  0.12870308  0.00927501]\n",
      "[  1.00000000e+00   1.00000000e+01   1.10869201e-01   3.42441266e-02\n",
      "   1.20259792e-03]\n"
     ]
    }
   ],
   "source": [
    "\n",
    "for l in learningRates:\n",
    "    weights = np.zeros(3)\n",
    "    for i in range(iterations):\n",
    "        f = np.dot(X,weights)\n",
    "        loss = np.mean((f- Y)**2)/2\n",
    "        error[index,i] = loss\n",
    "        print(loss,l,i,weights)\n",
    "        weights -= l * np.mean((f-Y).reshape(-1,1)*X,axis = 0)\n",
    "    solution[index,0] = l\n",
    "    \n",
    "    solution[index,2] = sigmaY * (weights[0] - np.sum(weights[1:] * muX / sigmaX))\n",
    "    solution[index,3:] = sigmaY * (weights[1:]*sigmaX)\n",
    "    print(solution[index,:])\n",
    "    index += 1\n",
    "    \n"
   ]
  },
  {
   "cell_type": "code",
   "execution_count": 396,
   "metadata": {},
   "outputs": [
    {
     "data": {
      "image/png": "[encoded data removed]",
      "text/plain": [
       "<matplotlib.figure.Figure at 0x1113bdfd0>"
      ]
     },
     "metadata": {},
     "output_type": "display_data"
    }
   ],
   "source": [
    "plt.yscale('log')\n",
    "plt.xlabel('iteration')\n",
    "plt.ylabel('error')\n",
    "plt.plot(error[:7,:].T)\n",
    "plt.legend(labels= solution[:,0])\n",
    "plt.show()"
   ]
  },
  {
   "cell_type": "code",
   "execution_count": 192,
   "metadata": {},
   "outputs": [
    {
     "data": {
      "text/plain": [
       "array([[  3.02477493e+02,   2.44976657e-01],\n",
       "       [  1.08179967e+02,   2.41003553e-01],\n",
       "       [  3.88290392e+01,   2.37095835e-01],\n",
       "       [  1.40750470e+01,   2.33252426e-01],\n",
       "       [  5.23894994e+00,   2.29472269e-01],\n",
       "       [  2.08439690e+00,   2.25754322e-01],\n",
       "       [  9.57748033e-01,   2.22097561e-01],\n",
       "       [  5.54917167e-01,   2.18500979e-01],\n",
       "       [  4.10439480e-01,   2.14963585e-01],\n",
       "       [  3.58177563e-01,   2.11484404e-01],\n",
       "       [  3.38832323e-01,   2.08062479e-01],\n",
       "       [  3.31238249e-01,   2.04696867e-01],\n",
       "       [  3.27840771e-01,   2.01386641e-01],\n",
       "       [  3.25943443e-01,   1.98130889e-01],\n",
       "       [  3.24583823e-01,   1.94928714e-01],\n",
       "       [  3.23418379e-01,   1.91779235e-01],\n",
       "       [  3.22324489e-01,   1.88681583e-01],\n",
       "       [  3.21258377e-01,   1.85634907e-01],\n",
       "       [  3.20204411e-01,   1.82638366e-01],\n",
       "       [  3.19157004e-01,   1.79691135e-01],\n",
       "       [  3.18114156e-01,   1.76792403e-01],\n",
       "       [  3.17075143e-01,   1.73941371e-01],\n",
       "       [  3.16039703e-01,   1.71137254e-01],\n",
       "       [  3.15007731e-01,   1.68379279e-01],\n",
       "       [  3.13979186e-01,   1.65666688e-01],\n",
       "       [  3.12954044e-01,   1.62998733e-01],\n",
       "       [  3.11932290e-01,   1.60374679e-01],\n",
       "       [  3.10913912e-01,   1.57793803e-01],\n",
       "       [  3.09898896e-01,   1.55255395e-01],\n",
       "       [  3.08887233e-01,   1.52758756e-01],\n",
       "       [  3.07878912e-01,   1.50303198e-01],\n",
       "       [  3.06873920e-01,   1.47888044e-01],\n",
       "       [  3.05872247e-01,   1.45512631e-01],\n",
       "       [  3.04873883e-01,   1.43176302e-01],\n",
       "       [  3.03878815e-01,   1.40878416e-01],\n",
       "       [  3.02887034e-01,   1.38618339e-01],\n",
       "       [  3.01898528e-01,   1.36395449e-01],\n",
       "       [  3.00913287e-01,   1.34209133e-01],\n",
       "       [  2.99931300e-01,   1.32058790e-01],\n",
       "       [  2.98952555e-01,   1.29943827e-01],\n",
       "       [  2.97977044e-01,   1.27863663e-01],\n",
       "       [  2.97004753e-01,   1.25817723e-01],\n",
       "       [  2.96035674e-01,   1.23805446e-01],\n",
       "       [  2.95069795e-01,   1.21826276e-01],\n",
       "       [  2.94107106e-01,   1.19879668e-01],\n",
       "       [  2.93147597e-01,   1.17965087e-01],\n",
       "       [  2.92191256e-01,   1.16082006e-01],\n",
       "       [  2.91238074e-01,   1.14229905e-01],\n",
       "       [  2.90288039e-01,   1.12408276e-01],\n",
       "       [  2.89341142e-01,   1.10616615e-01],\n",
       "       [  2.88397372e-01,   1.08854431e-01],\n",
       "       [  2.87456719e-01,   1.07121237e-01],\n",
       "       [  2.86519173e-01,   1.05416557e-01],\n",
       "       [  2.85584722e-01,   1.03739920e-01],\n",
       "       [  2.84653358e-01,   1.02090866e-01],\n",
       "       [  2.83725070e-01,   1.00468941e-01],\n",
       "       [  2.82799847e-01,   9.88736974e-02],\n",
       "       [  2.81877680e-01,   9.73046964e-02],\n",
       "       [  2.80958558e-01,   9.57615060e-02],\n",
       "       [  2.80042472e-01,   9.42437013e-02],\n",
       "       [  2.79129411e-01,   9.27508645e-02],\n",
       "       [  2.78219366e-01,   9.12825844e-02],\n",
       "       [  2.77312326e-01,   8.98384570e-02],\n",
       "       [  2.76408281e-01,   8.84180846e-02],\n",
       "       [  2.75507222e-01,   8.70210761e-02],\n",
       "       [  2.74609139e-01,   8.56470470e-02],\n",
       "       [  2.73714021e-01,   8.42956190e-02],\n",
       "       [  2.72821860e-01,   8.29664201e-02],\n",
       "       [  2.71932645e-01,   8.16590842e-02],\n",
       "       [  2.71046367e-01,   8.03732516e-02],\n",
       "       [  2.70163015e-01,   7.91085682e-02],\n",
       "       [  2.69282581e-01,   7.78646859e-02],\n",
       "       [  2.68405055e-01,   7.66412624e-02],\n",
       "       [  2.67530426e-01,   7.54379607e-02],\n",
       "       [  2.66658686e-01,   7.42544497e-02],\n",
       "       [  2.65789825e-01,   7.30904036e-02],\n",
       "       [  2.64923833e-01,   7.19455021e-02],\n",
       "       [  2.64060701e-01,   7.08194298e-02],\n",
       "       [  2.63200419e-01,   6.97118769e-02],\n",
       "       [  2.62342979e-01,   6.86225386e-02],\n",
       "       [  2.61488370e-01,   6.75511150e-02],\n",
       "       [  2.60636583e-01,   6.64973112e-02],\n",
       "       [  2.59787610e-01,   6.54608371e-02],\n",
       "       [  2.58941440e-01,   6.44414075e-02],\n",
       "       [  2.58098064e-01,   6.34387419e-02],\n",
       "       [  2.57257474e-01,   6.24525642e-02],\n",
       "       [  2.56419660e-01,   6.14826031e-02],\n",
       "       [  2.55584612e-01,   6.05285916e-02],\n",
       "       [  2.54752322e-01,   5.95902672e-02],\n",
       "       [  2.53922781e-01,   5.86673716e-02],\n",
       "       [  2.53095979e-01,   5.77596509e-02],\n",
       "       [  2.52271908e-01,   5.68668552e-02],\n",
       "       [  2.51450558e-01,   5.59887389e-02],\n",
       "       [  2.50631921e-01,   5.51250604e-02],\n",
       "       [  2.49815987e-01,   5.42755820e-02],\n",
       "       [  2.49002747e-01,   5.34400699e-02],\n",
       "       [  2.48192193e-01,   5.26182943e-02],\n",
       "       [  2.47384316e-01,   5.18100290e-02],\n",
       "       [  2.46579107e-01,   5.10150516e-02],\n",
       "       [  2.45776557e-01,   5.02331435e-02]])"
      ]
     },
     "execution_count": 192,
     "metadata": {},
     "output_type": "execute_result"
    }
   ],
   "source": [
    "error.T"
   ]
  },
  {
   "cell_type": "code",
   "execution_count": null,
   "metadata": {
    "collapsed": true
   },
   "outputs": [],
   "source": []
  }
 ],
 "metadata": {
  "kernelspec": {
   "display_name": "Python 3",
   "language": "python",
   "name": "python3"
  },
  "language_info": {
   "codemirror_mode": {
    "name": "ipython",
    "version": 3
   },
   "file_extension": ".py",
   "mimetype": "text/x-python",
   "name": "python",
   "nbconvert_exporter": "python",
   "pygments_lexer": "ipython3",
   "version": "3.6.1"
  }
 },
 "nbformat": 4,
 "nbformat_minor": 2
}
